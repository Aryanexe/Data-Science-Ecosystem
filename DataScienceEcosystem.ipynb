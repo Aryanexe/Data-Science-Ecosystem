{
 "cells": [
  {
   "cell_type": "markdown",
   "id": "58616121-5734-48f1-8b04-88a0d1410a1f",
   "metadata": {},
   "source": [
    "# Data Science Tools and Ecosystem"
   ]
  },
  {
   "cell_type": "markdown",
   "id": "36e18fc1-a9f1-4d41-b7a9-82dcc4986c01",
   "metadata": {},
   "source": [
    "**In this notebook, Data Science Tools and Ecosystem are summarized.**"
   ]
  },
  {
   "cell_type": "markdown",
   "id": "399aba45-0d78-4493-89ef-59dbde6fda9b",
   "metadata": {},
   "source": [
    "**Objectives:**\n",
    "* List popular languages for Data Science\n",
    "* Popular libraries for Data Science        \n",
    "* Table listing Data Science Tools"
   ]
  },
  {
   "cell_type": "markdown",
   "id": "cd728a0f-b30e-4e90-9517-03726d01a770",
   "metadata": {},
   "source": [
    "* Some of the popular languages that Data Scientists use are:\n",
    "1. Python\n",
    "2. SQL\n",
    "3. R"
   ]
  },
  {
   "cell_type": "markdown",
   "id": "bb5cdb32-1c9f-4daa-bbd9-77558136a4c9",
   "metadata": {},
   "source": [
    "* Some of the commonly used libraries used by Data Scientists include:\n",
    "1. Matplotlib\n",
    "2. ggplot\n",
    "3. Numpy\n",
    "4. Pandas"
   ]
  },
  {
   "cell_type": "markdown",
   "id": "1139b4cc-3fe6-43f8-8efe-6acee8075814",
   "metadata": {},
   "source": [
    "| Data Science Tools|\n",
    "|--------------|\n",
    "| Jupyter |\n",
    "| R Studio |\n",
    "| IBM Watson Studio |"
   ]
  },
  {
   "cell_type": "markdown",
   "id": "03b31731-dcdb-48d2-9d27-93a55574c474",
   "metadata": {},
   "source": [
    "### Below are a few examples of evaluating arithmetic expressions in Python"
   ]
  },
  {
   "cell_type": "code",
   "execution_count": 24,
   "id": "972bc879-a918-43ce-bf16-e165bc6f60b7",
   "metadata": {},
   "outputs": [
    {
     "data": {
      "text/plain": [
       "17"
      ]
     },
     "execution_count": 24,
     "metadata": {},
     "output_type": "execute_result"
    }
   ],
   "source": [
    "## This a simple arithmetic expression to mutiply then add integers\n",
    "(3*4)+5"
   ]
  },
  {
   "cell_type": "code",
   "execution_count": 26,
   "id": "7c0f545a-0a79-4c0a-aa92-0f86ac132722",
   "metadata": {},
   "outputs": [
    {
     "data": {
      "text/plain": [
       "3.3333333333333335"
      ]
     },
     "execution_count": 26,
     "metadata": {},
     "output_type": "execute_result"
    }
   ],
   "source": [
    "## This will convert 200 minutes to hours by diving by 60\n",
    "(200/60)"
   ]
  },
  {
   "cell_type": "markdown",
   "id": "5079be71-d712-43e9-acce-fe2eeffeca94",
   "metadata": {},
   "source": [
    "## Author\n",
    "Aryan Sihag"
   ]
  }
 ],
 "metadata": {
  "kernelspec": {
   "display_name": "Python 3 (ipykernel)",
   "language": "python",
   "name": "python3"
  },
  "language_info": {
   "codemirror_mode": {
    "name": "ipython",
    "version": 3
   },
   "file_extension": ".py",
   "mimetype": "text/x-python",
   "name": "python",
   "nbconvert_exporter": "python",
   "pygments_lexer": "ipython3",
   "version": "3.12.4"
  }
 },
 "nbformat": 4,
 "nbformat_minor": 5
}
